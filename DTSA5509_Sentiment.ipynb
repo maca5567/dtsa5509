{
 "cells": [
  {
   "cell_type": "markdown",
   "id": "5cd6162f-8121-41a2-a207-0221c32b485c",
   "metadata": {},
   "source": [
    "## Sentiment Analysis"
   ]
  },
  {
   "cell_type": "markdown",
   "id": "fc53d007-c69a-4a2c-83c4-a920ff402760",
   "metadata": {},
   "source": [
    "### Code Setup and Data Loading"
   ]
  },
  {
   "cell_type": "code",
   "execution_count": 122,
   "id": "bd18875e-9fb0-4a69-b13e-a6e61baa1db6",
   "metadata": {},
   "outputs": [],
   "source": [
    "# it is necessary to install fsspec, fastparquet and huggingface_hub\n",
    "# pip install fsspec\n",
    "# pip install huggingface_hub\n",
    "# pip install fastparquet\n",
    "\n",
    "import pandas as pd\n",
    "import numpy as np\n",
    "import matplotlib.pyplot as plt\n",
    "import re\n",
    "import nltk\n",
    "from sklearn import svm\n",
    "from sklearn.metrics import classification_report\n",
    "from sklearn.feature_extraction.text import TfidfVectorizer\n",
    "from sklearn.model_selection import train_test_split\n",
    "from sklearn.feature_extraction import text\n",
    "from nltk.corpus import stopwords\n",
    "from nltk.stem import WordNetLemmatizer \n",
    "\n",
    "# run these as needed\n",
    "#nltk.download('stopwords')\n",
    "#nltk.download('punkt_tab')\n",
    "#nltk.download('wordnet')"
   ]
  },
  {
   "cell_type": "markdown",
   "id": "31ceb784-f3f5-4996-8d64-45694ce7dfc9",
   "metadata": {},
   "source": [
    "#### Data sourced from Hugging Face post by Tim Koonstra\n",
    "https://huggingface.co/datasets/TimKoornstra/financial-tweets-sentiment"
   ]
  },
  {
   "cell_type": "code",
   "execution_count": 31,
   "id": "c7000d80-e17d-4150-a48d-5285515af899",
   "metadata": {},
   "outputs": [],
   "source": [
    "df = pd.read_parquet(\"hf://datasets/TimKoornstra/financial-tweets-sentiment/data/train-00000-of-00001.parquet\")"
   ]
  },
  {
   "cell_type": "code",
   "execution_count": 32,
   "id": "333c0b4f-0930-4bac-ada6-9b19dd86b656",
   "metadata": {},
   "outputs": [],
   "source": [
    "# Koornstra's tweet sentiment\n",
    "# 0 - neutral\n",
    "# 1 - positive\n",
    "# 2 - negative"
   ]
  },
  {
   "cell_type": "markdown",
   "id": "bd623e21-d769-4abf-b969-c28667189453",
   "metadata": {},
   "source": [
    "### Text Preprocessor"
   ]
  },
  {
   "cell_type": "code",
   "execution_count": 79,
   "id": "4ecdfd6f-861c-4731-84a8-e10212ba9f57",
   "metadata": {},
   "outputs": [],
   "source": [
    "\n",
    "lemmatizer = WordNetLemmatizer()\n",
    "stop_words = list(stopwords.words('english'))\n",
    "#import spacy\n",
    "\n",
    "def custom_preprocessor(s):\n",
    "    s2 = s.lower()\n",
    "    \n",
    "    words = nltk.word_tokenize(s2)\n",
    "    new_text = \"\"\n",
    "    for word in words:\n",
    "        word = word.strip()\n",
    "        if word not in stop_words and len(word) > 1:\n",
    "            word = re.sub('[^A-Za-z0-9]+', '', word)\n",
    "            word = lemmatizer.lemmatize(word)\n",
    "            new_text = new_text + \" \" + word        \n",
    "    \n",
    "    new_text = new_text.strip()\n",
    "    return new_text"
   ]
  },
  {
   "cell_type": "code",
   "execution_count": null,
   "id": "d0802ac3-3964-471c-bf10-033c2ab43808",
   "metadata": {},
   "outputs": [],
   "source": []
  },
  {
   "cell_type": "markdown",
   "id": "9e8934aa-16d1-45f6-839e-b506e6f79aa7",
   "metadata": {},
   "source": [
    "#### data cleanup, apply preprocessor here rather than in TfidfVectorizer so that we can actually see the transformed data"
   ]
  },
  {
   "cell_type": "code",
   "execution_count": 80,
   "id": "d020b3a1-a327-47ba-9596-591995568469",
   "metadata": {},
   "outputs": [],
   "source": [
    "df['url'] = df.tweet.str.extract(r'(https.*)')\n",
    "df['ticker'] = df.tweet.str.extract(r'(\\$[A-Z]*)')\n",
    "df['ticker'] = df['ticker'].str.replace('$','', regex=False)\n",
    "df['clean_tweet'] = df['tweet']\n",
    "df['clean_tweet'] = df.apply(lambda x: x['clean_tweet'].replace(str(x['url']), ''), axis=1)\n",
    "df['clean_tweet'] = df.apply(lambda x: x['clean_tweet'].replace(str(x['ticker']), ''), axis=1)\n",
    "df['clean_tweet'] = df.apply(lambda x: x['clean_tweet'].replace('&amp;', ''), axis=1)\n",
    "df['clean_tweet'] = df.apply(lambda x: x['clean_tweet'].replace('\\n', ''), axis=1)\n",
    "df['clean_tweet'] = df.apply(lambda x: x['clean_tweet'].replace(\"n't\", ' not'), axis=1) #let see if this helps on the negatice preds\n",
    "df['clean_tweet'] = df['clean_tweet'].str.replace('(\\$\\w+.*?)','', regex=True)\n",
    "df['clean_tweet'] = df['clean_tweet'].str.replace('(\\@\\w+.*?)','', regex=True)\n",
    "df['clean_tweet'] = df['clean_tweet'].str.replace('[-:,$@]','', regex=True)"
   ]
  },
  {
   "cell_type": "code",
   "execution_count": 81,
   "id": "a7fa1ff3-5978-4eb9-8e3b-da2ed1e64dc4",
   "metadata": {},
   "outputs": [],
   "source": [
    "#so we can see what it's doing run the preprocessor over the dataset\n",
    "df['preprocessed_text'] = df.apply(lambda x: custom_preprocessor(x['clean_tweet']), axis=1)\n",
    "df['wordcount'] = df.apply(lambda x: len(x['preprocessed_text'].split(' ')), axis=1)"
   ]
  },
  {
   "cell_type": "code",
   "execution_count": 82,
   "id": "3d4d42b8-4ed4-46aa-aead-ee77400c5e9a",
   "metadata": {},
   "outputs": [
    {
     "data": {
      "text/html": [
       "<div>\n",
       "<style scoped>\n",
       "    .dataframe tbody tr th:only-of-type {\n",
       "        vertical-align: middle;\n",
       "    }\n",
       "\n",
       "    .dataframe tbody tr th {\n",
       "        vertical-align: top;\n",
       "    }\n",
       "\n",
       "    .dataframe thead th {\n",
       "        text-align: right;\n",
       "    }\n",
       "</style>\n",
       "<table border=\"1\" class=\"dataframe\">\n",
       "  <thead>\n",
       "    <tr style=\"text-align: right;\">\n",
       "      <th></th>\n",
       "      <th>tweet</th>\n",
       "      <th>sentiment</th>\n",
       "      <th>url</th>\n",
       "      <th>ticker</th>\n",
       "      <th>clean_tweet</th>\n",
       "      <th>preprocessed_text</th>\n",
       "      <th>wordcount</th>\n",
       "    </tr>\n",
       "  </thead>\n",
       "  <tbody>\n",
       "    <tr>\n",
       "      <th>0</th>\n",
       "      <td>$BYND - JPMorgan reels in expectations on Beyo...</td>\n",
       "      <td>2</td>\n",
       "      <td>https://t.co/bd0xbFGjkT</td>\n",
       "      <td>BYND</td>\n",
       "      <td>JPMorgan reels in expectations on Beyond Meat</td>\n",
       "      <td>jpmorgan reel expectation beyond meat</td>\n",
       "      <td>5</td>\n",
       "    </tr>\n",
       "    <tr>\n",
       "      <th>1</th>\n",
       "      <td>$CCL $RCL - Nomura points to bookings weakness...</td>\n",
       "      <td>2</td>\n",
       "      <td>https://t.co/yGjpT2ReD3</td>\n",
       "      <td>CCL</td>\n",
       "      <td>Nomura points to bookings weakness at Carni...</td>\n",
       "      <td>nomura point booking weakness carnival royal c...</td>\n",
       "      <td>7</td>\n",
       "    </tr>\n",
       "    <tr>\n",
       "      <th>2</th>\n",
       "      <td>$CX - Cemex cut at Credit Suisse, J.P. Morgan ...</td>\n",
       "      <td>2</td>\n",
       "      <td>https://t.co/KN1g4AWFIb</td>\n",
       "      <td>CX</td>\n",
       "      <td>Cemex cut at Credit Suisse J.P. Morgan on we...</td>\n",
       "      <td>cemex cut credit suisse jp morgan weak buildin...</td>\n",
       "      <td>9</td>\n",
       "    </tr>\n",
       "    <tr>\n",
       "      <th>3</th>\n",
       "      <td>$ESS: BTIG Research cuts to Neutral https://t....</td>\n",
       "      <td>2</td>\n",
       "      <td>https://t.co/MCyfTsXc2N</td>\n",
       "      <td>ESS</td>\n",
       "      <td>BTIG Research cuts to Neutral</td>\n",
       "      <td>btig research cut neutral</td>\n",
       "      <td>4</td>\n",
       "    </tr>\n",
       "    <tr>\n",
       "      <th>4</th>\n",
       "      <td>$FNKO - Funko slides after Piper Jaffray PT cu...</td>\n",
       "      <td>2</td>\n",
       "      <td>https://t.co/z37IJmCQzB</td>\n",
       "      <td>FNKO</td>\n",
       "      <td>Funko slides after Piper Jaffray PT cut</td>\n",
       "      <td>funko slide piper jaffray pt cut</td>\n",
       "      <td>6</td>\n",
       "    </tr>\n",
       "  </tbody>\n",
       "</table>\n",
       "</div>"
      ],
      "text/plain": [
       "                                               tweet  sentiment  \\\n",
       "0  $BYND - JPMorgan reels in expectations on Beyo...          2   \n",
       "1  $CCL $RCL - Nomura points to bookings weakness...          2   \n",
       "2  $CX - Cemex cut at Credit Suisse, J.P. Morgan ...          2   \n",
       "3  $ESS: BTIG Research cuts to Neutral https://t....          2   \n",
       "4  $FNKO - Funko slides after Piper Jaffray PT cu...          2   \n",
       "\n",
       "                       url ticker  \\\n",
       "0  https://t.co/bd0xbFGjkT   BYND   \n",
       "1  https://t.co/yGjpT2ReD3    CCL   \n",
       "2  https://t.co/KN1g4AWFIb     CX   \n",
       "3  https://t.co/MCyfTsXc2N    ESS   \n",
       "4  https://t.co/z37IJmCQzB   FNKO   \n",
       "\n",
       "                                         clean_tweet  \\\n",
       "0     JPMorgan reels in expectations on Beyond Meat    \n",
       "1     Nomura points to bookings weakness at Carni...   \n",
       "2    Cemex cut at Credit Suisse J.P. Morgan on we...   \n",
       "3                     BTIG Research cuts to Neutral    \n",
       "4           Funko slides after Piper Jaffray PT cut    \n",
       "\n",
       "                                   preprocessed_text  wordcount  \n",
       "0              jpmorgan reel expectation beyond meat          5  \n",
       "1  nomura point booking weakness carnival royal c...          7  \n",
       "2  cemex cut credit suisse jp morgan weak buildin...          9  \n",
       "3                          btig research cut neutral          4  \n",
       "4                   funko slide piper jaffray pt cut          6  "
      ]
     },
     "execution_count": 82,
     "metadata": {},
     "output_type": "execute_result"
    }
   ],
   "source": [
    "df.head()"
   ]
  },
  {
   "cell_type": "markdown",
   "id": "139fa993-8f07-4719-a441-db9354107e2d",
   "metadata": {},
   "source": [
    "### Visualizing the Dataset"
   ]
  },
  {
   "cell_type": "code",
   "execution_count": 95,
   "id": "65448c88-c3f3-4029-80e8-2170ad7ac9f1",
   "metadata": {},
   "outputs": [],
   "source": [
    "words = []\n",
    "df.apply(lambda x: words.append(x['preprocessed_text'].split(' ')), axis=1)\n",
    "flat_vocab = [x for y in words for x in y]\n",
    "vocab_series = pd.Series(flat_vocab)\n",
    "vocab = pd.DataFrame({'word': vocab_series.values}).value_counts()\n"
   ]
  },
  {
   "cell_type": "code",
   "execution_count": 115,
   "id": "297c39e8-2437-443f-8330-63a7d0489079",
   "metadata": {},
   "outputs": [
    {
     "data": {
      "text/plain": [
       "Text(0.5, 1.0, 'Vocabulary Distribution')"
      ]
     },
     "execution_count": 115,
     "metadata": {},
     "output_type": "execute_result"
    },
    {
     "data": {
      "image/png": "[encoded data removed]",
      "text/plain": [
       "<Figure size 1000x400 with 2 Axes>"
      ]
     },
     "metadata": {},
     "output_type": "display_data"
    }
   ],
   "source": [
    "fig, (ax1, ax2) = plt.subplots(1,2, figsize=(10,4))\n",
    "# tweet length plot\n",
    "s0 = list(df[df['sentiment'] == 0]['wordcount'])\n",
    "s1 = list(df[df['sentiment'] == 1]['wordcount'])\n",
    "s2 = list(df[df['sentiment'] == 2]['wordcount'])\n",
    "names = ['neutral','postive','negative']\n",
    "ax1.hist([s0,s1,s2], bins=range(0,40,2), stacked=True, label=names, edgecolor='black')\n",
    "ax1.legend()\n",
    "ax1.set_xlabel('Word Count')\n",
    "ax1.set_title('Tweet Length by Sentiment')\n",
    "\n",
    "#build vocab for frequency distribution plot\n",
    "vocab_df = pd.DataFrame(vocab)\n",
    "vocab_df.reset_index(inplace=True)\n",
    "vocab_df.rename(columns={0:'count'}, inplace=True)\n",
    "vocab_df['frequency'] = vocab_df['count'] / len(flat_vocab)\n",
    "vocab_df = vocab_df.round(4)\n",
    "\n",
    "ax2.hist(vocab_df['frequency'], bins=np.linspace(0.0,0.0125,num=30), log=True, edgecolor='black')\n",
    "ax2.set_xlabel('Word Frequency')\n",
    "ax2.set_title('Vocabulary Distribution')"
   ]
  },
  {
   "cell_type": "code",
   "execution_count": 117,
   "id": "8521544f-36ca-45de-a458-c295cf8b9cf5",
   "metadata": {},
   "outputs": [],
   "source": [
    "#split and set up vectors\n",
    "x_train, x_test, y_train, y_test = train_test_split(df['preprocessed_text'],df['sentiment'])\n",
    "#set up vectors\n",
    "stop_words = list(text.ENGLISH_STOP_WORDS)\n",
    "vectorizer = TfidfVectorizer(min_df = 1,\n",
    "                             #max_df = 0.80,\n",
    "                             #max_features = 20,\n",
    "                             #sublinear_tf = True,\n",
    "                             #use_idf = False\n",
    "                             #stop_words = ['strike','expiration','call','put'],\n",
    "                             #strip_accents='unicode',\n",
    "                             #preprocessor=custom_preprocessor,\n",
    "                             ngram_range=(1,2)\n",
    "                            )\n",
    "\n",
    "train_vectors = vectorizer.fit_transform(x_train)\n",
    "test_vectors = vectorizer.transform(x_test)"
   ]
  },
  {
   "cell_type": "markdown",
   "id": "df357b41-1a9b-409e-a59e-31487b4b3c37",
   "metadata": {},
   "source": [
    "### Prediction Results"
   ]
  },
  {
   "cell_type": "code",
   "execution_count": 118,
   "id": "e789d12b-dd0a-4e0a-af40-5d82ae6a4e55",
   "metadata": {},
   "outputs": [
    {
     "name": "stdout",
     "output_type": "stream",
     "text": [
      "neutral:  {'precision': 0.7676156583629893, 'recall': 0.6900191938579654, 'f1-score': 0.7267520215633423, 'support': 3126.0}\n",
      "positive:  {'precision': 0.7306038894575231, 'recall': 0.8317408529480308, 'f1-score': 0.777898866608544, 'support': 4291.0}\n",
      "negative:  {'precision': 0.6920131291028446, 'recall': 0.600664767331434, 'f1-score': 0.643111337061515, 'support': 2106.0}\n"
     ]
    }
   ],
   "source": [
    "#run classification\n",
    "classifier_linear = svm.SVC(kernel='linear')\n",
    "classifier_linear.fit(train_vectors, y_train)\n",
    "prediction_linear = classifier_linear.predict(test_vectors)\n",
    "\n",
    "report = classification_report(y_test, prediction_linear, output_dict=True)\n",
    "print('neutral: ', report['0'])\n",
    "print('positive: ', report['1'])\n",
    "print('negative: ', report['2'])"
   ]
  },
  {
   "cell_type": "code",
   "execution_count": null,
   "id": "1c237766-22f0-42b3-a186-e9f96fdd0f4c",
   "metadata": {},
   "outputs": [],
   "source": [
    "#NOTE: so far min_df of 1 seems to have the best performance.  for min_df=1, max_df range of 0.4 to 1.0 seens to have no impact\n",
    "#NOTE: breaking up by sector does not help.  Often sample size is too small\n",
    "#NOTE adding stop words mildly reduced precision will slightly imprving recall and f1 for neutral and negative predictions\n",
    "#OBS: removing @ tags and excess symbols has helped a bit probably by removing infrequent, yet irrelevant items"
   ]
  },
  {
   "cell_type": "code",
   "execution_count": 120,
   "id": "9a32350c-2af6-44ef-b805-05574fa23fb0",
   "metadata": {},
   "outputs": [],
   "source": [
    "# THIS SECTION COMMENTED OUT, USED TO TEST VARIOUS PARAMETERS FOR THE BEST FIT\n",
    "#min_df_range = [1]\n",
    "#max_df_range = [.40,.50,.60,.70]\n",
    "#for mnd in min_df_range:\n",
    "#    for mxd in max_df_range:\n",
    "#        vectorizer = TfidfVectorizer(min_df = mnd,\n",
    "#                                 max_df = mxd,\n",
    "#                                 #sublinear_tf = True,\n",
    "#                                 #use_idf = False\n",
    "#                                )\n",
    "#\n",
    "#        train_vectors = vectorizer.fit_transform(x_train)\n",
    "#        test_vectors = vectorizer.transform(x_test)\n",
    "#            \n",
    "#        classifier_linear = svm.SVC(kernel='linear')\n",
    "#        classifier_linear.fit(train_vectors, y_train)\n",
    "#        prediction_linear = classifier_linear.predict(test_vectors)\n",
    "\n",
    "#        report = classification_report(y_test, prediction_linear, output_dict=True)\n",
    "#        print('min_df: ',mnd,' ,max_df: ',mxd)\n",
    "#        print('------------------------------')\n",
    "#        print('neutral: ', report['0'])\n",
    "#        print('positive: ', report['1'])\n",
    "#        print('negative: ', report['2'])\n",
    "#        print('==============================')\n",
    "#        print(' ')\n",
    "        "
   ]
  },
  {
   "cell_type": "markdown",
   "id": "594b9794-f4ea-490e-9110-9b6903ea42d4",
   "metadata": {},
   "source": [
    "### Reviewing Some of the False Positives and False Negatives"
   ]
  },
  {
   "cell_type": "code",
   "execution_count": 121,
   "id": "dc261728-0c85-460e-bc2a-f74d1a28095e",
   "metadata": {},
   "outputs": [
    {
     "data": {
      "text/html": [
       "<div>\n",
       "<style scoped>\n",
       "    .dataframe tbody tr th:only-of-type {\n",
       "        vertical-align: middle;\n",
       "    }\n",
       "\n",
       "    .dataframe tbody tr th {\n",
       "        vertical-align: top;\n",
       "    }\n",
       "\n",
       "    .dataframe thead th {\n",
       "        text-align: right;\n",
       "    }\n",
       "</style>\n",
       "<table border=\"1\" class=\"dataframe\">\n",
       "  <thead>\n",
       "    <tr style=\"text-align: right;\">\n",
       "      <th></th>\n",
       "      <th>preprocessed_text</th>\n",
       "      <th>sentiment</th>\n",
       "      <th>pred</th>\n",
       "    </tr>\n",
       "  </thead>\n",
       "  <tbody>\n",
       "    <tr>\n",
       "      <th>20970</th>\n",
       "      <td>anyone s paying attention knew arm deal probably dead reason see back earnings</td>\n",
       "      <td>1</td>\n",
       "      <td>2</td>\n",
       "    </tr>\n",
       "    <tr>\n",
       "      <th>2967</th>\n",
       "      <td>oil trade 3month low</td>\n",
       "      <td>2</td>\n",
       "      <td>1</td>\n",
       "    </tr>\n",
       "    <tr>\n",
       "      <th>14368</th>\n",
       "      <td>amzn matter look still ca figure s valued 26947</td>\n",
       "      <td>2</td>\n",
       "      <td>1</td>\n",
       "    </tr>\n",
       "    <tr>\n",
       "      <th>15225</th>\n",
       "      <td>vxy another ong bpop snort  9 next week vxy new high index</td>\n",
       "      <td>1</td>\n",
       "      <td>2</td>\n",
       "    </tr>\n",
       "    <tr>\n",
       "      <th>37822</th>\n",
       "      <td>weakest today dt watchlist</td>\n",
       "      <td>2</td>\n",
       "      <td>1</td>\n",
       "    </tr>\n",
       "    <tr>\n",
       "      <th>12670</th>\n",
       "      <td>typical set 2611</td>\n",
       "      <td>1</td>\n",
       "      <td>0</td>\n",
       "    </tr>\n",
       "    <tr>\n",
       "      <th>24124</th>\n",
       "      <td>said delay delivery timeline model plaid due delay stop taking model plaid order electrek tesla inc</td>\n",
       "      <td>2</td>\n",
       "      <td>1</td>\n",
       "    </tr>\n",
       "    <tr>\n",
       "      <th>520</th>\n",
       "      <td>czech unexpected rate hike lift koruna sevenyear high</td>\n",
       "      <td>0</td>\n",
       "      <td>1</td>\n",
       "    </tr>\n",
       "    <tr>\n",
       "      <th>6187</th>\n",
       "      <td>china s gdp growth quarter according top economist ed hyman</td>\n",
       "      <td>2</td>\n",
       "      <td>1</td>\n",
       "    </tr>\n",
       "    <tr>\n",
       "      <th>5533</th>\n",
       "      <td>might need much sleep think</td>\n",
       "      <td>0</td>\n",
       "      <td>1</td>\n",
       "    </tr>\n",
       "    <tr>\n",
       "      <th>16683</th>\n",
       "      <td>bac wfc hole finally</td>\n",
       "      <td>2</td>\n",
       "      <td>1</td>\n",
       "    </tr>\n",
       "    <tr>\n",
       "      <th>6814</th>\n",
       "      <td>ficials sign creditmarket stability ficials roundup economy marketscreener</td>\n",
       "      <td>1</td>\n",
       "      <td>2</td>\n",
       "    </tr>\n",
       "    <tr>\n",
       "      <th>28558</th>\n",
       "      <td>avg vol 48 million strong</td>\n",
       "      <td>0</td>\n",
       "      <td>1</td>\n",
       "    </tr>\n",
       "    <tr>\n",
       "      <th>11024</th>\n",
       "      <td>new teva generic drugmakers held talk u resolving longrunning probe allege</td>\n",
       "      <td>0</td>\n",
       "      <td>1</td>\n",
       "    </tr>\n",
       "    <tr>\n",
       "      <th>16379</th>\n",
       "      <td>goog looking good near 20 day watch break</td>\n",
       "      <td>2</td>\n",
       "      <td>1</td>\n",
       "    </tr>\n",
       "  </tbody>\n",
       "</table>\n",
       "</div>"
      ],
      "text/plain": [
       "                                                                                         preprocessed_text  \\\n",
       "20970                       anyone s paying attention knew arm deal probably dead reason see back earnings   \n",
       "2967                                                                                  oil trade 3month low   \n",
       "14368                                                      amzn matter look still ca figure s valued 26947   \n",
       "15225                                           vxy another ong bpop snort  9 next week vxy new high index   \n",
       "37822                                                                           weakest today dt watchlist   \n",
       "12670                                                                                     typical set 2611   \n",
       "24124  said delay delivery timeline model plaid due delay stop taking model plaid order electrek tesla inc   \n",
       "520                                                  czech unexpected rate hike lift koruna sevenyear high   \n",
       "6187                                           china s gdp growth quarter according top economist ed hyman   \n",
       "5533                                                                           might need much sleep think   \n",
       "16683                                                                                 bac wfc hole finally   \n",
       "6814                            ficials sign creditmarket stability ficials roundup economy marketscreener   \n",
       "28558                                                                            avg vol 48 million strong   \n",
       "11024                           new teva generic drugmakers held talk u resolving longrunning probe allege   \n",
       "16379                                                            goog looking good near 20 day watch break   \n",
       "\n",
       "       sentiment  pred  \n",
       "20970          1     2  \n",
       "2967           2     1  \n",
       "14368          2     1  \n",
       "15225          1     2  \n",
       "37822          2     1  \n",
       "12670          1     0  \n",
       "24124          2     1  \n",
       "520            0     1  \n",
       "6187           2     1  \n",
       "5533           0     1  \n",
       "16683          2     1  \n",
       "6814           1     2  \n",
       "28558          0     1  \n",
       "11024          0     1  \n",
       "16379          2     1  "
      ]
     },
     "execution_count": 121,
     "metadata": {},
     "output_type": "execute_result"
    }
   ],
   "source": [
    "test_data = pd.concat([x_test, y_test], axis=1)\n",
    "test_data['pred'] = np.array(prediction_linear)\n",
    "pd.set_option('max_colwidth', 200)\n",
    "test_data.loc[test_data['sentiment'] != test_data['pred']].head(15)"
   ]
  },
  {
   "cell_type": "code",
   "execution_count": null,
   "id": "730c33f2-b60a-43e8-aaec-c253e4588076",
   "metadata": {},
   "outputs": [],
   "source": []
  }
 ],
 "metadata": {
  "kernelspec": {
   "display_name": "Python 3 (ipykernel)",
   "language": "python",
   "name": "python3"
  },
  "language_info": {
   "codemirror_mode": {
    "name": "ipython",
    "version": 3
   },
   "file_extension": ".py",
   "mimetype": "text/x-python",
   "name": "python",
   "nbconvert_exporter": "python",
   "pygments_lexer": "ipython3",
   "version": "3.10.8"
  }
 },
 "nbformat": 4,
 "nbformat_minor": 5
}
